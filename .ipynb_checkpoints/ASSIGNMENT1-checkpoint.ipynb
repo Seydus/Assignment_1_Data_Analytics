{
 "cells": [
  {
   "cell_type": "code",
   "execution_count": 9,
   "id": "e6edc0e1-4667-4e8b-ac41-a69909a191c0",
   "metadata": {},
   "outputs": [
    {
     "name": "stdout",
     "output_type": "stream",
     "text": [
      "Hello World\n"
     ]
    }
   ],
   "source": [
    "print(\"Hello World\")"
   ]
  },
  {
   "cell_type": "code",
   "execution_count": 10,
   "id": "d8702c33-52ba-4f63-9fe9-301b9f0d5cff",
   "metadata": {},
   "outputs": [],
   "source": [
    "import pandas as pd\n",
    "import numpy as np\n",
    "from sklearn.neighbors import NearestNeighbors"
   ]
  },
  {
   "cell_type": "code",
   "execution_count": 11,
   "id": "b90e9756-3efc-4ac1-8724-7c26116780d0",
   "metadata": {},
   "outputs": [],
   "source": [
    "def generate_synthetic_data(n=100):\n",
    "    \"\"\"Generate synthetic data for treatment and control groups.\"\"\"\n",
    "    np.random.seed(42)\n",
    "    data = pd.DataFrame({\n",
    "        'id': np.arange(n),\n",
    "        'age': np.random.randint(20, 70, n),\n",
    "        'risk_score': np.random.rand(n),\n",
    "        'treatment': np.random.choice([0, 1], n)  # 0 = control, 1 = treated\n",
    "    })\n",
    "    return data"
   ]
  },
  {
   "cell_type": "code",
   "execution_count": 12,
   "id": "21b8e32f-3313-493c-ad8f-4e7f629c49c0",
   "metadata": {},
   "outputs": [
    {
     "name": "stdout",
     "output_type": "stream",
     "text": [
      "   id  age  risk_score  treatment\n",
      "0   0   58    0.423401          1\n",
      "1   1   48    0.394882          0\n",
      "2   2   34    0.293488          1\n",
      "3   3   62    0.014080          0\n",
      "4   4   27    0.198842          1\n"
     ]
    }
   ],
   "source": [
    "data = generate_synthetic_data()\n",
    "print(data.head())"
   ]
  },
  {
   "cell_type": "code",
   "execution_count": 13,
   "id": "40e53860-6ab0-4faf-938d-1211d66669b8",
   "metadata": {},
   "outputs": [
    {
     "name": "stdout",
     "output_type": "stream",
     "text": [
      "               id         age  risk_score   treatment\n",
      "count  100.000000  100.000000  100.000000  100.000000\n",
      "mean    49.500000   44.070000    0.484004    0.560000\n",
      "std     29.011492   14.447575    0.270784    0.498888\n",
      "min      0.000000   20.000000    0.000520    0.000000\n",
      "25%     24.750000   33.000000    0.255530    0.000000\n",
      "50%     49.500000   43.000000    0.463418    1.000000\n",
      "75%     74.250000   58.000000    0.694968    1.000000\n",
      "max     99.000000   69.000000    0.997740    1.000000\n"
     ]
    }
   ],
   "source": [
    "print(data.describe())"
   ]
  },
  {
   "cell_type": "code",
   "execution_count": 14,
   "id": "40169915-e4c7-409b-872b-7168c28b7531",
   "metadata": {},
   "outputs": [
    {
     "name": "stdout",
     "output_type": "stream",
     "text": [
      "<class 'pandas.core.frame.DataFrame'>\n",
      "RangeIndex: 100 entries, 0 to 99\n",
      "Data columns (total 4 columns):\n",
      " #   Column      Non-Null Count  Dtype  \n",
      "---  ------      --------------  -----  \n",
      " 0   id          100 non-null    int64  \n",
      " 1   age         100 non-null    int32  \n",
      " 2   risk_score  100 non-null    float64\n",
      " 3   treatment   100 non-null    int64  \n",
      "dtypes: float64(1), int32(1), int64(2)\n",
      "memory usage: 2.9 KB\n",
      "None\n"
     ]
    }
   ],
   "source": [
    "print(data.info())"
   ]
  },
  {
   "cell_type": "code",
   "execution_count": 15,
   "id": "b1080519-827b-48ef-b9c2-37ad1547c546",
   "metadata": {},
   "outputs": [],
   "source": [
    "def balanced_risk_set_matching(data):\n",
    "    \"\"\"Perform Balanced Risk Set Matching (BRSM).\"\"\"\n",
    "    treated = data[data['treatment'] == 1]  \n",
    "    control = data[data['treatment'] == 0] \n",
    "    \n",
    "    matched_pairs = []\n",
    "\n",
    "    nbrs = NearestNeighbors(n_neighbors=1, metric='euclidean').fit(control[['age', 'risk_score']])\n",
    "    distances, indices = nbrs.kneighbors(treated[['age', 'risk_score']])\n",
    "\n",
    "    for i, index in enumerate(indices.flatten()):\n",
    "        matched_pairs.append((treated.iloc[i]['id'], control.iloc[index]['id']))\n",
    "\n",
    "    return matched_pairs\n"
   ]
  },
  {
   "cell_type": "code",
   "execution_count": 16,
   "id": "bf4089af-ef03-404f-8a21-b45f885158d1",
   "metadata": {},
   "outputs": [
    {
     "name": "stdout",
     "output_type": "stream",
     "text": [
      "Matched Pairs (Treated ID, Control ID):\n",
      "[(np.float64(0.0), np.float64(6.0)), (np.float64(2.0), np.float64(76.0)), (np.float64(4.0), np.float64(48.0)), (np.float64(8.0), np.float64(16.0)), (np.float64(9.0), np.float64(10.0)), (np.float64(11.0), np.float64(89.0)), (np.float64(14.0), np.float64(89.0)), (np.float64(15.0), np.float64(22.0)), (np.float64(17.0), np.float64(22.0)), (np.float64(18.0), np.float64(89.0)), (np.float64(21.0), np.float64(6.0)), (np.float64(24.0), np.float64(77.0)), (np.float64(27.0), np.float64(55.0)), (np.float64(28.0), np.float64(45.0)), (np.float64(31.0), np.float64(93.0)), (np.float64(32.0), np.float64(52.0)), (np.float64(33.0), np.float64(60.0)), (np.float64(34.0), np.float64(76.0)), (np.float64(36.0), np.float64(19.0)), (np.float64(37.0), np.float64(50.0)), (np.float64(39.0), np.float64(99.0)), (np.float64(41.0), np.float64(48.0)), (np.float64(42.0), np.float64(6.0)), (np.float64(43.0), np.float64(87.0)), (np.float64(46.0), np.float64(76.0)), (np.float64(53.0), np.float64(35.0)), (np.float64(54.0), np.float64(99.0)), (np.float64(56.0), np.float64(48.0)), (np.float64(57.0), np.float64(35.0)), (np.float64(58.0), np.float64(12.0)), (np.float64(59.0), np.float64(76.0)), (np.float64(61.0), np.float64(12.0)), (np.float64(62.0), np.float64(47.0)), (np.float64(65.0), np.float64(50.0)), (np.float64(66.0), np.float64(99.0)), (np.float64(67.0), np.float64(93.0)), (np.float64(68.0), np.float64(44.0)), (np.float64(69.0), np.float64(1.0)), (np.float64(70.0), np.float64(87.0)), (np.float64(72.0), np.float64(55.0)), (np.float64(73.0), np.float64(12.0)), (np.float64(78.0), np.float64(29.0)), (np.float64(79.0), np.float64(76.0)), (np.float64(80.0), np.float64(48.0)), (np.float64(81.0), np.float64(76.0)), (np.float64(82.0), np.float64(16.0)), (np.float64(83.0), np.float64(63.0)), (np.float64(85.0), np.float64(60.0)), (np.float64(88.0), np.float64(35.0)), (np.float64(90.0), np.float64(49.0)), (np.float64(92.0), np.float64(86.0)), (np.float64(94.0), np.float64(1.0)), (np.float64(95.0), np.float64(76.0)), (np.float64(96.0), np.float64(86.0)), (np.float64(97.0), np.float64(50.0)), (np.float64(98.0), np.float64(91.0))]\n"
     ]
    }
   ],
   "source": [
    "if __name__ == \"__main__\":\n",
    "    data = generate_synthetic_data() \n",
    "    matches = balanced_risk_set_matching(data)\n",
    "    \n",
    "    print(\"Matched Pairs (Treated ID, Control ID):\")\n",
    "    print(matches)\n"
   ]
  },
  {
   "cell_type": "code",
   "execution_count": null,
   "id": "d1a371b9-88a5-4ed3-8fe9-0dd5c6082ae7",
   "metadata": {},
   "outputs": [],
   "source": []
  }
 ],
 "metadata": {
  "kernelspec": {
   "display_name": "Python 3 (ipykernel)",
   "language": "python",
   "name": "python3"
  },
  "language_info": {
   "codemirror_mode": {
    "name": "ipython",
    "version": 3
   },
   "file_extension": ".py",
   "mimetype": "text/x-python",
   "name": "python",
   "nbconvert_exporter": "python",
   "pygments_lexer": "ipython3",
   "version": "3.13.1"
  }
 },
 "nbformat": 4,
 "nbformat_minor": 5
}
